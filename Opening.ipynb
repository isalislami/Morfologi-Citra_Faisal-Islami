{
 "cells": [
  {
   "cell_type": "code",
   "execution_count": null,
   "metadata": {},
   "outputs": [],
   "source": [
    "import cv2   \n",
    "import numpy as np\n",
    "from skimage import data\n",
    "from skimage.io import imread\n",
    "\n",
    "import matplotlib.pyplot as plt\n",
    "%matplotlib inline"
   ]
  },
  {
   "cell_type": "code",
   "execution_count": null,
   "metadata": {},
   "outputs": [],
   "source": [
    "#image = data.retina()\n",
    "#image = data.astronaut()\n",
    "image = imread(fname=\"aqua2.jpg\")\n",
    "\n",
    "print(image.shape)\n",
    "plt.imshow(image)\n"
   ]
  },
  {
   "cell_type": "code",
   "execution_count": null,
   "metadata": {},
   "outputs": [],
   "source": [
    "hsv = cv2.cvtColor(image, cv2.COLOR_BGR2HSV) \n",
    "# defining the range of masking \n",
    "blue1 = np.array([110, 50, 50]) \n",
    "blue2 = np.array([130, 255, 255]) \n",
    "      \n",
    "# initializing the mask to be \n",
    "# convoluted over input image \n",
    "mask = cv2.inRange(hsv, blue1, blue2) \n",
    "  \n",
    "# passing the bitwise_and over \n",
    "# each pixel convoluted \n",
    "res = cv2.bitwise_and(image, image, mask = mask) \n",
    "      \n",
    "# defining the kernel i.e. Structuring element \n",
    "kernel = np.ones((5, 5), np.uint8) \n",
    "      \n",
    "# defining the opening function  \n",
    "# over the image and structuring element \n",
    "opening = cv2.morphologyEx(mask, cv2.MORPH_OPEN, kernel) "
   ]
  },
  {
   "cell_type": "code",
   "execution_count": null,
   "metadata": {},
   "outputs": [],
   "source": [
    "fig, axes = plt.subplots(1, 2, figsize=(12, 12))\n",
    "ax = axes.ravel()\n",
    "\n",
    "ax[0].imshow(mask)\n",
    "ax[0].set_title(\"Citra Input 1\")\n",
    "\n",
    "ax[1].imshow(opening, cmap='gray')\n",
    "ax[1].set_title('Citra Input 2')"
   ]
  },
  {
   "cell_type": "code",
   "execution_count": null,
   "metadata": {},
   "outputs": [],
   "source": [
    "# return video from the first webcam on your computer.   \n",
    "screenRead = cv2.VideoCapture(0) \n",
    "  \n",
    "# loop runs if capturing has been initialized. \n",
    "while(1): \n",
    "    # reads frames from a camera \n",
    "    _, image = screenRead.read() \n",
    "      \n",
    "    # Converts to HSV color space, OCV reads colors as BGR  \n",
    "    # frame is converted to hsv \n",
    "    hsv = cv2.cvtColor(image, cv2.COLOR_BGR2HSV) \n",
    "      \n",
    "    # defining the range of masking \n",
    "    blue1 = np.array([110, 50, 50]) \n",
    "    blue2 = np.array([130, 255, 255]) \n",
    "      \n",
    "    # initializing the mask to be \n",
    "    # convoluted over input image \n",
    "    mask = cv2.inRange(hsv, blue1, blue2) \n",
    "  \n",
    "    # passing the bitwise_and over \n",
    "    # each pixel convoluted \n",
    "    res = cv2.bitwise_and(image, image, mask = mask) \n",
    "      \n",
    "    # defining the kernel i.e. Structuring element \n",
    "    kernel = np.ones((5, 5), np.uint8) \n",
    "      \n",
    "    # defining the opening function  \n",
    "    # over the image and structuring element \n",
    "    opening = cv2.morphologyEx(mask, cv2.MORPH_OPEN, kernel) \n",
    "     \n",
    "    # The mask and opening operation \n",
    "    # is shown in the window  \n",
    "    cv2.imshow('Mask', mask) \n",
    "    cv2.imshow('Opening', opening) \n",
    "      \n",
    "    # Wait for 'a' key to stop the program  \n",
    "    if cv2.waitKey(1) & 0xFF == ord('a'): \n",
    "        break\n",
    "\n",
    "# De-allocate any associated memory usage   \n",
    "cv2.destroyAllWindows() \n",
    "  \n",
    "# Close the window / Release webcam  \n",
    "screenRead.release()"
   ]
  }
 ],
 "metadata": {
  "kernelspec": {
   "display_name": "Python 3",
   "language": "python",
   "name": "python3"
  },
  "language_info": {
   "name": "python",
   "version": "3.10.0"
  },
  "orig_nbformat": 4
 },
 "nbformat": 4,
 "nbformat_minor": 2
}
